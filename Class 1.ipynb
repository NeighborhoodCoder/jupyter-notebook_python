{
 "cells": [
  {
   "cell_type": "code",
   "execution_count": 1,
   "id": "f0af1556",
   "metadata": {},
   "outputs": [
    {
     "name": "stdout",
     "output_type": "stream",
     "text": [
      "H\n",
      "e\n",
      "l\n",
      "l\n",
      "o\n",
      ",\n",
      " \n",
      "W\n",
      "o\n",
      "r\n",
      "l\n",
      "d\n",
      "!\n"
     ]
    }
   ],
   "source": [
    "for letter in \"Hello, World!\":\n",
    "    print(letter)"
   ]
  },
  {
   "cell_type": "markdown",
   "id": "36adc671",
   "metadata": {},
   "source": [
    "# Problem 1\n",
    "### Given two strings (string_a and string_b) let's check whether or not they are anagrams of each other given the following criteria:\n",
    "> Two strings are only anagrams of each other if all conditions below are met:\n",
    "> * They must be of exactly the same length.\n",
    "> * They must use exactly the same characters (no more, no less).\n",
    "> * Example: cars and scar, heart and earth, etc."
   ]
  },
  {
   "cell_type": "code",
   "execution_count": 6,
   "id": "f302682f",
   "metadata": {},
   "outputs": [],
   "source": [
    "def is_anagram(string_a, string_b):\n",
    "    if len(string_a) is not len(string_b):\n",
    "        return False\n",
    "    char_times_a = dict()\n",
    "    char_times_b = dict()\n",
    "    \n",
    "    for i in range(len(string_a)):\n",
    "        if string_a[i] not in char_times_a.keys():\n",
    "            char_times_a[string_a[i]] = 1\n",
    "        else:\n",
    "            char_times_a[string_a[i]] += 1\n",
    "        if string_b[i] not in char_times_b.keys():\n",
    "            char_times_b[string_b[i]] = 1\n",
    "        else:\n",
    "            char_times_b[string_b[i]] += 1\n",
    "    \n",
    "    return char_times_a == char_times_b\n"
   ]
  },
  {
   "cell_type": "code",
   "execution_count": 7,
   "id": "b7870393",
   "metadata": {},
   "outputs": [
    {
     "data": {
      "text/plain": [
       "True"
      ]
     },
     "execution_count": 7,
     "metadata": {},
     "output_type": "execute_result"
    }
   ],
   "source": [
    "is_anagram(\"cars\", \"scar\")"
   ]
  },
  {
   "cell_type": "code",
   "execution_count": 8,
   "id": "3a96bccd",
   "metadata": {},
   "outputs": [],
   "source": [
    "def is_anagram(string_a, string_b):\n",
    "    string_a_new = string_a.replace(\" \", \"\").lower()\n",
    "    string_b_new = string_b.replace(\" \", \"\").lower()\n",
    "    if len(string_a_new) is not len(string_b_new):\n",
    "        return False\n",
    "    char_times_a = dict()\n",
    "    char_times_b = dict()\n",
    "    \n",
    "    for i in range(len(string_a_new)):\n",
    "        if string_a_new[i] not in char_times_a.keys():\n",
    "            char_times_a[string_a_new[i]] = 1\n",
    "        else:\n",
    "            char_times_a[string_a_new[i]] += 1\n",
    "        if string_b_new[i] not in char_times_b.keys():\n",
    "            char_times_b[string_b_new[i]] = 1\n",
    "        else:\n",
    "            char_times_b[string_b_new[i]] += 1\n",
    "    \n",
    "    return char_times_a == char_times_b"
   ]
  },
  {
   "cell_type": "code",
   "execution_count": 9,
   "id": "9b5848ec",
   "metadata": {},
   "outputs": [
    {
     "data": {
      "text/plain": [
       "True"
      ]
     },
     "execution_count": 9,
     "metadata": {},
     "output_type": "execute_result"
    }
   ],
   "source": [
    "is_anagram(\"Tom Marvolo Riddle\", \"I am lord Voldemort\")"
   ]
  },
  {
   "cell_type": "code",
   "execution_count": null,
   "id": "ebc744a0",
   "metadata": {},
   "outputs": [],
   "source": []
  }
 ],
 "metadata": {
  "kernelspec": {
   "display_name": "Python 3 (ipykernel)",
   "language": "python",
   "name": "python3"
  },
  "language_info": {
   "codemirror_mode": {
    "name": "ipython",
    "version": 3
   },
   "file_extension": ".py",
   "mimetype": "text/x-python",
   "name": "python",
   "nbconvert_exporter": "python",
   "pygments_lexer": "ipython3",
   "version": "3.9.7"
  }
 },
 "nbformat": 4,
 "nbformat_minor": 5
}
